{
  "nbformat": 4,
  "nbformat_minor": 0,
  "metadata": {
    "colab": {
      "provenance": [],
      "collapsed_sections": [
        "UxkA5OX3TqW_",
        "RRapVHEPVAdQ",
        "wKbgPLRhWCA0",
        "NojFk3hPWyEB"
      ]
    },
    "kernelspec": {
      "name": "python3",
      "display_name": "Python 3"
    },
    "language_info": {
      "name": "python"
    }
  },
  "cells": [
    {
      "cell_type": "code",
      "execution_count": 2,
      "metadata": {
        "id": "y-kBMQrYCdUA"
      },
      "outputs": [],
      "source": [
        "import pandas as pd\n",
        "import numpy as np\n",
        "import matplotlib.pyplot as mtp\n",
        "from sklearn.model_selection import train_test_split\n",
        "from sklearn.preprocessing import LabelEncoder, StandardScaler\n",
        "from sklearn.ensemble import RandomForestClassifier\n",
        "from sklearn.metrics import accuracy_score, confusion_matrix\n"
      ]
    },
    {
      "cell_type": "code",
      "source": [
        "data=pd.read_csv(\"shuffle_attack.csv\")\n",
        "\n",
        "data.head(5)"
      ],
      "metadata": {
        "id": "Qtp5R1fsDPbN"
      },
      "execution_count": null,
      "outputs": []
    },
    {
      "cell_type": "code",
      "source": [
        "# Assuming 'AttackLabel' is the column indicating the type of attack\n",
        "X = data.drop('Attack', axis=1)\n",
        "y = data['Attack']\n",
        "\n",
        "# One-hot encode categorical variables\n",
        "X = pd.get_dummies(X)\n",
        "\n",
        "# Split the data into training and testing sets\n",
        "X_train, X_test, y_train, y_test = train_test_split(X, y, test_size= 0.25, random_state=0)\n",
        "\n"
      ],
      "metadata": {
        "id": "Xalognw6I7Du"
      },
      "execution_count": 5,
      "outputs": []
    },
    {
      "cell_type": "code",
      "source": [
        "# Step 2: Fitting the Random Forest Algorithm\n",
        "from sklearn.ensemble import RandomForestClassifier\n",
        "\n",
        "# Initialize the classifier\n",
        "rf_classifier = RandomForestClassifier(n_estimators=100, random_state=42)\n",
        "\n",
        "# Fit the classifier to the training data\n",
        "rf_classifier.fit(X_train, y_train)\n",
        "\n",
        "# Step 3: Predicting the Test Result\n",
        "rf_pred = rf_classifier.predict(X_test)"
      ],
      "metadata": {
        "id": "hJUxdpT8IJoM"
      },
      "execution_count": 19,
      "outputs": []
    },
    {
      "cell_type": "code",
      "source": [
        "# Step 4: Test Accuracy & Confusion Matrix\n",
        "from sklearn.metrics import accuracy_score, confusion_matrix, classification_report\n",
        "\n",
        "# Calculate accuracy\n",
        "rf_accuracy = accuracy_score(y_test, rf_pred)\n",
        "\n",
        "rf_cm= confusion_matrix(y_test, rf_pred)\n",
        "\n",
        "print(rf_accuracy)\n"
      ],
      "metadata": {
        "id": "tHF5yh3mdJjD"
      },
      "execution_count": null,
      "outputs": []
    },
    {
      "cell_type": "markdown",
      "source": [
        "### **RandomForest Visualizing**"
      ],
      "metadata": {
        "id": "tOsDvg48UIoT"
      }
    },
    {
      "cell_type": "code",
      "source": [
        "# Step 5: Visualizing the Test Set Result\n",
        "import matplotlib.pyplot as plt\n",
        "import seaborn as sns\n",
        "\n",
        "# Create a heatmap for the confusion matrix\n",
        "plt.figure(figsize=(12, 8))\n",
        "sns.heatmap(rf_cm, annot=True, fmt='d', cmap='Blues', xticklabels=rf_classifier.classes_, yticklabels=rf_classifier.classes_)\n",
        "plt.xlabel('Predicted')\n",
        "plt.ylabel('Actual')\n",
        "plt.title('Confusion Matrix')\n",
        "plt.show()\n",
        "\n",
        "# # Print classification report\n",
        "# print(report)\n",
        "\n",
        "# Print precision, recall, f1-score, and accuracy\n",
        "from sklearn.metrics import accuracy_score\n",
        "\n",
        "rf_accuracy = accuracy_score(y_test, rf_pred)\n",
        "print(f\"Accuracy: {rf_accuracy}\")\n",
        "\n",
        "# # Extract precision, recall, and f1-score from the report\n",
        "# precision = float(report.split()[-4])\n",
        "# recall = float(report.split()[-3])\n",
        "# f1_score = float(report.split()[-2])\n",
        "\n",
        "# print(f\"Precision: {precision}\")\n",
        "# print(f\"Recall: {recall}\")\n",
        "# print(f\"F1-Score: {f1_score}\")"
      ],
      "metadata": {
        "id": "XLn5DfwMkUSO"
      },
      "execution_count": null,
      "outputs": []
    },
    {
      "cell_type": "markdown",
      "source": [
        "### **=> Training and Testing Set Visualizing**"
      ],
      "metadata": {
        "id": "UxkA5OX3TqW_"
      }
    },
    {
      "cell_type": "code",
      "source": [
        "import matplotlib.pyplot as plt\n",
        "\n",
        "# Assuming 'y_train' and 'y_test' are your training and testing labels\n",
        "\n",
        "# Plotting the distribution of classes in the training set\n",
        "plt.figure(figsize=(8, 6))\n",
        "plt.title('Distribution of Classes in Training Set')\n",
        "plt.hist(y_train, bins=len(y_train.unique()), alpha=0.7, color='blue', label='Training Set')\n",
        "plt.xlabel('Attack Labels')\n",
        "plt.ylabel('Frequency')\n",
        "plt.xticks(rotation=45)\n",
        "plt.legend()\n",
        "plt.show()\n",
        "\n",
        "print()\n",
        "\n",
        "# Plotting the distribution of classes in the testing set\n",
        "plt.figure(figsize=(8, 6))\n",
        "plt.title('Distribution of Classes in Testing Set')\n",
        "plt.hist(y_test, bins=len(y_test.unique()), alpha=0.7, color='green', label='Testing Set')\n",
        "plt.xlabel('Attack Labels')\n",
        "plt.ylabel('Frequency')\n",
        "plt.xticks(rotation=45)\n",
        "plt.legend()\n",
        "plt.show()"
      ],
      "metadata": {
        "id": "hE9spEOMmekT"
      },
      "execution_count": null,
      "outputs": []
    },
    {
      "cell_type": "code",
      "source": [
        "# Plotting the distribution of classes in the training set using a pie chart\n",
        "plt.figure(figsize=(8, 8))\n",
        "plt.title('Distribution of Classes in Training Set')\n",
        "y_train.value_counts().plot.pie(autopct='%1.1f%%', startangle=90, cmap='Blues')\n",
        "plt.ylabel('')\n",
        "plt.show()\n",
        "\n",
        "print()\n",
        "\n",
        "# Plotting the distribution of classes in the testing set using a pie chart\n",
        "plt.figure(figsize=(8, 8))\n",
        "plt.title('Distribution of Classes in Testing Set')\n",
        "y_test.value_counts().plot.pie(autopct='%1.1f%%', startangle=90, cmap='Greens')\n",
        "plt.ylabel('')\n",
        "plt.show()\n"
      ],
      "metadata": {
        "id": "l8AejFT5nvIW"
      },
      "execution_count": null,
      "outputs": []
    },
    {
      "cell_type": "code",
      "source": [
        "# Plotting the distribution of classes in the training set using a bar chart\n",
        "plt.figure(figsize=(10, 6))\n",
        "plt.title('Distribution of Classes in Training Set')\n",
        "y_train.value_counts().plot(kind='bar', color='blue')\n",
        "plt.xlabel('Attack Labels')\n",
        "plt.ylabel('Frequency')\n",
        "plt.xticks(rotation=45)\n",
        "plt.show()\n",
        "\n",
        "print()\n",
        "\n",
        "# Plotting the distribution of classes in the testing set using a bar chart\n",
        "plt.figure(figsize=(10, 6))\n",
        "plt.title('Distribution of Classes in Testing Set')\n",
        "y_test.value_counts().plot(kind='bar', color='green')\n",
        "plt.xlabel('Attack Labels')\n",
        "plt.ylabel('Frequency')\n",
        "plt.xticks(rotation=45)\n",
        "plt.show()\n"
      ],
      "metadata": {
        "id": "VT_Q-07-n9LB"
      },
      "execution_count": null,
      "outputs": []
    },
    {
      "cell_type": "code",
      "source": [
        "import matplotlib.pyplot as plt\n",
        "\n",
        "# Get the training and testing accuracy\n",
        "train_accuracy = rf_classifier.score(X_train, y_train)\n",
        "test_accuracy = rf_classifier.score(X_test, y_test)\n",
        "\n",
        "# Create a line chart\n",
        "labels = ['Training Accuracy', 'Testing Accuracy']\n",
        "values = [train_accuracy, test_accuracy]\n",
        "\n",
        "plt.figure(figsize=(10, 5))\n",
        "plt.plot(labels, values, marker='o')\n",
        "plt.title('Training and Testing Accuracy')\n",
        "plt.xlabel('Dataset')\n",
        "plt.ylabel('Accuracy')\n",
        "plt.show()\n"
      ],
      "metadata": {
        "id": "5jVCcqwJmxJv"
      },
      "execution_count": null,
      "outputs": []
    },
    {
      "cell_type": "code",
      "source": [
        "import matplotlib.pyplot as plt\n",
        "\n",
        "# Get the training and testing accuracy\n",
        "train_accuracy = rf_classifier.score(X_train, y_train)\n",
        "test_accuracy = rf_classifier.score(X_test, y_test)\n",
        "\n",
        "# Create a bar chart\n",
        "labels = ['Training Accuracy', 'Testing Accuracy']\n",
        "values = [train_accuracy, test_accuracy]\n",
        "\n",
        "plt.figure(figsize=(10, 5))\n",
        "plt.bar(labels, values, color=['blue', 'green'])\n",
        "plt.title('Training and Testing Accuracy')\n",
        "plt.xlabel('Dataset')\n",
        "plt.ylabel('Accuracy')\n",
        "plt.show()\n"
      ],
      "metadata": {
        "id": "3nvpAk90nB4S"
      },
      "execution_count": null,
      "outputs": []
    },
    {
      "cell_type": "markdown",
      "source": [
        "## **-> 2. Logistic Regression**"
      ],
      "metadata": {
        "id": "_f69AJxDQJtS"
      }
    },
    {
      "cell_type": "code",
      "source": [
        "#feature Scaling\n",
        "from sklearn.preprocessing import StandardScaler\n",
        "st_x= StandardScaler()\n",
        "X_train= st_x.fit_transform(X_train)\n",
        "X_test= st_x.transform(X_test)"
      ],
      "metadata": {
        "id": "7F2W3c6LoP6x"
      },
      "execution_count": 11,
      "outputs": []
    },
    {
      "cell_type": "code",
      "source": [
        "#Fitting Logistic Regression to the training set\n",
        "from sklearn.linear_model import LogisticRegression\n",
        "lg_classifier= LogisticRegression(random_state=0)\n",
        "lg_classifier.fit(X_train, y_train)"
      ],
      "metadata": {
        "id": "OUEPcyq3RqOe"
      },
      "execution_count": null,
      "outputs": []
    },
    {
      "cell_type": "code",
      "source": [
        "#Predicting the test set result\n",
        "lg_pred= lg_classifier.predict(X_test)"
      ],
      "metadata": {
        "id": "t0uNYRfpRwXv"
      },
      "execution_count": 23,
      "outputs": []
    },
    {
      "cell_type": "code",
      "source": [
        "# Step 4: Test Accuracy & Confusion Matrix\n",
        "from sklearn.metrics import accuracy_score, confusion_matrix, classification_report\n",
        "\n",
        "# Calculate accuracy\n",
        "lg_accuracy = accuracy_score(y_test, lg_pred)\n",
        "\n",
        "lg_cm= confusion_matrix(y_test, lg_pred)\n",
        "\n",
        "print(lg_accuracy)"
      ],
      "metadata": {
        "colab": {
          "base_uri": "https://localhost:8080/"
        },
        "id": "YU26CgWXSCc3",
        "outputId": "52559431-e51b-47fb-f274-55738b6d566c"
      },
      "execution_count": 50,
      "outputs": [
        {
          "output_type": "stream",
          "name": "stdout",
          "text": [
            "0.8068669527896996\n"
          ]
        }
      ]
    },
    {
      "cell_type": "markdown",
      "source": [
        "### Logistic Regression **Visualizing**"
      ],
      "metadata": {
        "id": "BXoo641UUZYP"
      }
    },
    {
      "cell_type": "code",
      "source": [
        "# Step 5: Visualizing the Test Set Result\n",
        "import matplotlib.pyplot as plt\n",
        "import seaborn as sns\n",
        "\n",
        "# Create a heatmap for the confusion matrix\n",
        "plt.figure(figsize=(12, 8))\n",
        "sns.heatmap(lg_cm, annot=True, fmt='d', cmap='Blues', xticklabels=lg_classifier.classes_, yticklabels=lg_classifier.classes_)\n",
        "plt.xlabel('Predicted')\n",
        "plt.ylabel('Actual')\n",
        "plt.title('Confusion Matrix')\n",
        "plt.show()"
      ],
      "metadata": {
        "id": "wTVo3QydUfAK"
      },
      "execution_count": null,
      "outputs": []
    },
    {
      "cell_type": "markdown",
      "source": [
        "## **=> 3. KNN Algorithm**"
      ],
      "metadata": {
        "id": "RRapVHEPVAdQ"
      }
    },
    {
      "cell_type": "code",
      "source": [
        "#Fitting K-NN classifier to the training set\n",
        "from sklearn.neighbors import KNeighborsClassifier\n",
        "knn_classifier= KNeighborsClassifier(n_neighbors=5, metric='minkowski', p=2 )\n",
        "knn_classifier.fit(X_train, y_train)"
      ],
      "metadata": {
        "colab": {
          "base_uri": "https://localhost:8080/",
          "height": 74
        },
        "id": "-bZcnlS4VKjp",
        "outputId": "0cdf750a-8fe7-4be0-c391-70e85a2f2c89"
      },
      "execution_count": 35,
      "outputs": [
        {
          "output_type": "execute_result",
          "data": {
            "text/plain": [
              "KNeighborsClassifier()"
            ],
            "text/html": [
              "<style>#sk-container-id-6 {color: black;background-color: white;}#sk-container-id-6 pre{padding: 0;}#sk-container-id-6 div.sk-toggleable {background-color: white;}#sk-container-id-6 label.sk-toggleable__label {cursor: pointer;display: block;width: 100%;margin-bottom: 0;padding: 0.3em;box-sizing: border-box;text-align: center;}#sk-container-id-6 label.sk-toggleable__label-arrow:before {content: \"▸\";float: left;margin-right: 0.25em;color: #696969;}#sk-container-id-6 label.sk-toggleable__label-arrow:hover:before {color: black;}#sk-container-id-6 div.sk-estimator:hover label.sk-toggleable__label-arrow:before {color: black;}#sk-container-id-6 div.sk-toggleable__content {max-height: 0;max-width: 0;overflow: hidden;text-align: left;background-color: #f0f8ff;}#sk-container-id-6 div.sk-toggleable__content pre {margin: 0.2em;color: black;border-radius: 0.25em;background-color: #f0f8ff;}#sk-container-id-6 input.sk-toggleable__control:checked~div.sk-toggleable__content {max-height: 200px;max-width: 100%;overflow: auto;}#sk-container-id-6 input.sk-toggleable__control:checked~label.sk-toggleable__label-arrow:before {content: \"▾\";}#sk-container-id-6 div.sk-estimator input.sk-toggleable__control:checked~label.sk-toggleable__label {background-color: #d4ebff;}#sk-container-id-6 div.sk-label input.sk-toggleable__control:checked~label.sk-toggleable__label {background-color: #d4ebff;}#sk-container-id-6 input.sk-hidden--visually {border: 0;clip: rect(1px 1px 1px 1px);clip: rect(1px, 1px, 1px, 1px);height: 1px;margin: -1px;overflow: hidden;padding: 0;position: absolute;width: 1px;}#sk-container-id-6 div.sk-estimator {font-family: monospace;background-color: #f0f8ff;border: 1px dotted black;border-radius: 0.25em;box-sizing: border-box;margin-bottom: 0.5em;}#sk-container-id-6 div.sk-estimator:hover {background-color: #d4ebff;}#sk-container-id-6 div.sk-parallel-item::after {content: \"\";width: 100%;border-bottom: 1px solid gray;flex-grow: 1;}#sk-container-id-6 div.sk-label:hover label.sk-toggleable__label {background-color: #d4ebff;}#sk-container-id-6 div.sk-serial::before {content: \"\";position: absolute;border-left: 1px solid gray;box-sizing: border-box;top: 0;bottom: 0;left: 50%;z-index: 0;}#sk-container-id-6 div.sk-serial {display: flex;flex-direction: column;align-items: center;background-color: white;padding-right: 0.2em;padding-left: 0.2em;position: relative;}#sk-container-id-6 div.sk-item {position: relative;z-index: 1;}#sk-container-id-6 div.sk-parallel {display: flex;align-items: stretch;justify-content: center;background-color: white;position: relative;}#sk-container-id-6 div.sk-item::before, #sk-container-id-6 div.sk-parallel-item::before {content: \"\";position: absolute;border-left: 1px solid gray;box-sizing: border-box;top: 0;bottom: 0;left: 50%;z-index: -1;}#sk-container-id-6 div.sk-parallel-item {display: flex;flex-direction: column;z-index: 1;position: relative;background-color: white;}#sk-container-id-6 div.sk-parallel-item:first-child::after {align-self: flex-end;width: 50%;}#sk-container-id-6 div.sk-parallel-item:last-child::after {align-self: flex-start;width: 50%;}#sk-container-id-6 div.sk-parallel-item:only-child::after {width: 0;}#sk-container-id-6 div.sk-dashed-wrapped {border: 1px dashed gray;margin: 0 0.4em 0.5em 0.4em;box-sizing: border-box;padding-bottom: 0.4em;background-color: white;}#sk-container-id-6 div.sk-label label {font-family: monospace;font-weight: bold;display: inline-block;line-height: 1.2em;}#sk-container-id-6 div.sk-label-container {text-align: center;}#sk-container-id-6 div.sk-container {/* jupyter's `normalize.less` sets `[hidden] { display: none; }` but bootstrap.min.css set `[hidden] { display: none !important; }` so we also need the `!important` here to be able to override the default hidden behavior on the sphinx rendered scikit-learn.org. See: https://github.com/scikit-learn/scikit-learn/issues/21755 */display: inline-block !important;position: relative;}#sk-container-id-6 div.sk-text-repr-fallback {display: none;}</style><div id=\"sk-container-id-6\" class=\"sk-top-container\"><div class=\"sk-text-repr-fallback\"><pre>KNeighborsClassifier()</pre><b>In a Jupyter environment, please rerun this cell to show the HTML representation or trust the notebook. <br />On GitHub, the HTML representation is unable to render, please try loading this page with nbviewer.org.</b></div><div class=\"sk-container\" hidden><div class=\"sk-item\"><div class=\"sk-estimator sk-toggleable\"><input class=\"sk-toggleable__control sk-hidden--visually\" id=\"sk-estimator-id-6\" type=\"checkbox\" checked><label for=\"sk-estimator-id-6\" class=\"sk-toggleable__label sk-toggleable__label-arrow\">KNeighborsClassifier</label><div class=\"sk-toggleable__content\"><pre>KNeighborsClassifier()</pre></div></div></div></div></div>"
            ]
          },
          "metadata": {},
          "execution_count": 35
        }
      ]
    },
    {
      "cell_type": "code",
      "source": [
        "#Predicting the test set result\n",
        "knn_pred= knn_classifier.predict(X_test)"
      ],
      "metadata": {
        "id": "yi61_hnOVK6w"
      },
      "execution_count": 36,
      "outputs": []
    },
    {
      "cell_type": "code",
      "source": [
        "# Step 4: Test Accuracy & Confusion Matrix\n",
        "from sklearn.metrics import accuracy_score, confusion_matrix, classification_report\n",
        "\n",
        "# Calculate accuracy\n",
        "knn_accuracy = accuracy_score(y_test, knn_pred)\n",
        "\n",
        "knn_cm= confusion_matrix(y_test, knn_pred)\n",
        "\n",
        "print(knn_accuracy)"
      ],
      "metadata": {
        "colab": {
          "base_uri": "https://localhost:8080/"
        },
        "id": "sR2NdQ2DVLQi",
        "outputId": "a6fd2ca0-0a7f-4832-de4f-caa0f23b359d"
      },
      "execution_count": 40,
      "outputs": [
        {
          "output_type": "stream",
          "name": "stdout",
          "text": [
            "0.6824034334763949\n"
          ]
        }
      ]
    },
    {
      "cell_type": "markdown",
      "source": [
        "## **KNN-ALGORITHM VISUALIZING**"
      ],
      "metadata": {
        "id": "wKbgPLRhWCA0"
      }
    },
    {
      "cell_type": "code",
      "source": [
        "# Step 5: Visualizing the Test Set Result\n",
        "import matplotlib.pyplot as plt\n",
        "import seaborn as sns\n",
        "\n",
        "# Create a heatmap for the confusion matrix\n",
        "plt.figure(figsize=(12, 8))\n",
        "sns.heatmap(knn_cm, annot=True, fmt='d', cmap='Blues', xticklabels=knn_classifier.classes_, yticklabels=knn_classifier.classes_)\n",
        "plt.xlabel('Predicted')\n",
        "plt.ylabel('Actual')\n",
        "plt.title('Confusion Matrix')\n",
        "plt.show()"
      ],
      "metadata": {
        "id": "OF1iyryhVyJG"
      },
      "execution_count": null,
      "outputs": []
    },
    {
      "cell_type": "markdown",
      "source": [
        "## => **4. SVM**"
      ],
      "metadata": {
        "id": "NojFk3hPWyEB"
      }
    },
    {
      "cell_type": "code",
      "source": [
        "from sklearn.svm import SVC\n",
        "svm_classifier = SVC(kernel='linear', random_state=0)\n",
        "svm_classifier.fit(X_train, y_train)"
      ],
      "metadata": {
        "id": "t2c_hCqfW2ez"
      },
      "execution_count": null,
      "outputs": []
    },
    {
      "cell_type": "code",
      "source": [
        "#Predicting the test set result\n",
        "svm_pred= svm_classifier.predict(X_test)"
      ],
      "metadata": {
        "id": "Tq9_z-WmXECD"
      },
      "execution_count": 39,
      "outputs": []
    },
    {
      "cell_type": "code",
      "source": [
        "# Step 4: Test Accuracy & Confusion Matrix\n",
        "from sklearn.metrics import accuracy_score, confusion_matrix, classification_report\n",
        "\n",
        "# Calculate accuracy\n",
        "svm_accuracy = accuracy_score(y_test, svm_pred)\n",
        "\n",
        "svm_cm= confusion_matrix(y_test, svm_pred)\n",
        "\n",
        "print(svm_accuracy)"
      ],
      "metadata": {
        "colab": {
          "base_uri": "https://localhost:8080/"
        },
        "id": "iezzG8IPXPVy",
        "outputId": "5cd0e0e3-91e8-4e8e-c27b-23fa558590d3"
      },
      "execution_count": 48,
      "outputs": [
        {
          "output_type": "stream",
          "name": "stdout",
          "text": [
            "0.8068669527896996\n"
          ]
        }
      ]
    },
    {
      "cell_type": "markdown",
      "source": [
        "# **SVM VISUALIZING**"
      ],
      "metadata": {
        "id": "XnCxgCPMX3aF"
      }
    },
    {
      "cell_type": "code",
      "source": [
        "# Step 5: Visualizing the Test Set Result\n",
        "import matplotlib.pyplot as plt\n",
        "import seaborn as sns\n",
        "\n",
        "# Create a heatmap for the confusion matrix\n",
        "plt.figure(figsize=(12, 8))\n",
        "sns.heatmap(svm_cm, annot=True, fmt='d', cmap='Blues', xticklabels=svm_classifier.classes_, yticklabels=svm_classifier.classes_)\n",
        "plt.xlabel('Predicted')\n",
        "plt.ylabel('Actual')\n",
        "plt.title('Confusion Matrix')\n",
        "plt.show()"
      ],
      "metadata": {
        "id": "woISRqOuXPFT"
      },
      "execution_count": null,
      "outputs": []
    },
    {
      "cell_type": "markdown",
      "source": [
        "# **=> 4.Naive Bayes**"
      ],
      "metadata": {
        "id": "TYLKO9RMX_HF"
      }
    },
    {
      "cell_type": "code",
      "source": [
        "# Fitting Naive Bayes to the Training set\n",
        "from sklearn.naive_bayes import GaussianNB\n",
        "NB_classifier = GaussianNB()\n",
        "NB_classifier.fit(X_train, y_train)"
      ],
      "metadata": {
        "id": "qQ0ZvO2VYJWG"
      },
      "execution_count": null,
      "outputs": []
    },
    {
      "cell_type": "code",
      "source": [
        "# Predicting the Test set results\n",
        "NB_pred = NB_classifier.predict(X_test)"
      ],
      "metadata": {
        "id": "iyYT5IMzYJvo"
      },
      "execution_count": 45,
      "outputs": []
    },
    {
      "cell_type": "code",
      "source": [
        "# Step 4: Test Accuracy & Confusion Matrix\n",
        "from sklearn.metrics import accuracy_score, confusion_matrix, classification_report\n",
        "\n",
        "# Calculate accuracy\n",
        "NB_accuracy = accuracy_score(y_test, NB_pred)\n",
        "\n",
        "NB_cm= confusion_matrix(y_test, NB_pred)\n",
        "\n",
        "print(NB_accuracy)"
      ],
      "metadata": {
        "colab": {
          "base_uri": "https://localhost:8080/"
        },
        "id": "1v_4ogOzYJkL",
        "outputId": "e04da86f-e889-471e-86da-7487307515a5"
      },
      "execution_count": 49,
      "outputs": [
        {
          "output_type": "stream",
          "name": "stdout",
          "text": [
            "0.7854077253218884\n"
          ]
        }
      ]
    },
    {
      "cell_type": "code",
      "source": [
        "# Step 5: Visualizing the Test Set Result\n",
        "import matplotlib.pyplot as plt\n",
        "import seaborn as sns\n",
        "\n",
        "# Create a heatmap for the confusion matrix\n",
        "plt.figure(figsize=(12, 8))\n",
        "sns.heatmap(NB_cm, annot=True, fmt='d', cmap='Blues', xticklabels=NB_classifier.classes_, yticklabels=NB_classifier.classes_)\n",
        "plt.xlabel('Predicted')\n",
        "plt.ylabel('Actual')\n",
        "plt.title('Confusion Matrix')\n",
        "plt.show()"
      ],
      "metadata": {
        "id": "9xy5n8rwYnNY"
      },
      "execution_count": null,
      "outputs": []
    },
    {
      "cell_type": "markdown",
      "source": [
        "## **=> DIFFERENT ML ALGORITHM ACCURACY VALUES:**"
      ],
      "metadata": {
        "id": "xREeOPlYZ5d4"
      }
    },
    {
      "cell_type": "code",
      "source": [
        "classifier_list={\"RandomForest          \":rf_accuracy,\n",
        "                 \"LOGISTIC_REGRESSION   \":lg_accuracy,\n",
        "                 \"SUPPORT_VECTOR_MACHINE\":svm_accuracy,\n",
        "                 \"NAIVE_BAYES           \":NB_accuracy}\n",
        "\n",
        "print(\"-----------------------------------------------\")\n",
        "print(\"| Machine learning Model |     Accuracy       |   \")\n",
        "print(\"-----------------------------------------------\")\n",
        "for i, j in classifier_list.items():\n",
        "  print(\"|\",i,\"|\",j,\"|\")\n",
        "  print(\"-----------------------------------------------\")\n"
      ],
      "metadata": {
        "colab": {
          "base_uri": "https://localhost:8080/"
        },
        "id": "KnYdyo5lZ_-O",
        "outputId": "333656a1-bd76-47c7-a8f2-b2aefeb75408"
      },
      "execution_count": 85,
      "outputs": [
        {
          "output_type": "stream",
          "name": "stdout",
          "text": [
            "-----------------------------------------------\n",
            "| Machine learning Model |     Accuracy       |   \n",
            "-----------------------------------------------\n",
            "| RandomForest           | 0.8454935622317596 |\n",
            "-----------------------------------------------\n",
            "| LOGISTIC_REGRESSION    | 0.8068669527896996 |\n",
            "-----------------------------------------------\n",
            "| SUPPORT_VECTOR_MACHINE | 0.8068669527896996 |\n",
            "-----------------------------------------------\n",
            "| NAIVE_BAYES            | 0.7854077253218884 |\n",
            "-----------------------------------------------\n"
          ]
        }
      ]
    }
  ]
}